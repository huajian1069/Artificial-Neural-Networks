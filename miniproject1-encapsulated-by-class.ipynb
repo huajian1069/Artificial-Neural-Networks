{
 "cells": [
  {
   "cell_type": "markdown",
   "metadata": {},
   "source": [
    "# Miniproject 1: Image Classification\n",
    "\n",
    "## Introduction\n",
    "\n",
    "### Important dates:\n",
    "\n",
    "- Project release: Friday, 15th March 2019\n",
    "- **Submission deadline**: Monday, 29th April 2019, 11:59 pm\n",
    "\n",
    "### Description\n",
    "\n",
    "One of the deepest traditions in learning about deep learning is to first [tackle the exciting problem of MNIST classification](http://yann.lecun.com/exdb/mnist/). [The MNIST database](https://en.wikipedia.org/wiki/MNIST_database) (Modified National Institute of Standards and Technology database) is a large database of handwritten digits that is commonly used as a first test for new classification algorithms. \n",
    "We follow this tradition to investigate the performance of artificial neural networks of different complexity on MNIST. However, since MNIST is too easy for accessing the full power of modern machine learning algorithms (see e.g. [this post](https://twitter.com/goodfellow_ian/status/852591106655043584)) we will extend our analysis to the recently introduced, harder [Fashion-MNIST dataset](https://github.com/zalandoresearch/fashion-mnist).\n",
    "\n",
    "\n",
    "### Prerequisites\n",
    "\n",
    "- You should have a running installation of [tensorflow](https://www.tensorflow.org/install/) and [keras](https://keras.io/). Feel free to gain inspiration from the [Keras example directory](https://github.com/keras-team/keras/tree/master/examples) for your implementations.\n",
    "- You should know the concepts \"multilayer perceptron\", \"stochastic gradient descent with minibatches\", \"convolutional neural network\", \"training and validation data\", \"overfitting\" and \"early stopping\".\n",
    "\n",
    "### What you will learn\n",
    "\n",
    "- You will learn how to define feedforward neural networks in keras and fit them to data.\n",
    "- You will be guided through a prototyping procedure for the application of deep learning to a specific domain.\n",
    "- You will get in contact with concepts discussed later in the lecture, like \"regularization\", \"batch normalization\" and \"convolutional networks\".\n",
    "- You will gain some experience on the influence of network architecture, optimizer and regularization choices on the goodness of fit.\n",
    "- You will learn to be more patient :) Some fits may take your computer quite a bit of time; run them over night (or on an external server).\n",
    "\n",
    "### Evaluation criteria\n",
    "\n",
    "The evaluation is (mostly) based on the figures you submit and your answer sentences. Provide clear and concise answers respecting the indicated maximum length (answers to the questions should be below the line that says \"Answer to question ...\").\n",
    "\n",
    "**The submitted notebook must be run by you!** We will only do random tests of your code and not re-run the full notebook. There will be fraud detection sessions at the end of the semester.\n",
    "\n",
    "### Your names\n",
    "\n",
    "**Before you start**: please enter your full name(s) in the field below."
   ]
  },
  {
   "cell_type": "code",
   "execution_count": 1,
   "metadata": {
    "ExecuteTime": {
     "end_time": "2018-03-09T09:08:24.514461Z",
     "start_time": "2018-03-09T09:08:24.506410Z"
    }
   },
   "outputs": [],
   "source": [
    "student1 = \"Huajian Qiu\"\n",
    "student2 = \"Kunteng Wang\""
   ]
  },
  {
   "cell_type": "markdown",
   "metadata": {
    "ExecuteTime": {
     "end_time": "2018-02-22T21:52:59.697375Z",
     "start_time": "2018-02-22T21:52:59.689443Z"
    }
   },
   "source": [
    "## Some helper functions\n",
    "\n",
    "For your convenience we provide here some functions to preprocess the data and plot the results later. Simply run the following cells with `Shift-Enter`.\n",
    "\n",
    "### Dependencies and constants"
   ]
  },
  {
   "cell_type": "code",
   "execution_count": 2,
   "metadata": {
    "ExecuteTime": {
     "end_time": "2018-02-23T14:27:09.352019Z",
     "start_time": "2018-02-23T14:27:08.476310Z"
    }
   },
   "outputs": [
    {
     "name": "stderr",
     "output_type": "stream",
     "text": [
      "Using TensorFlow backend.\n"
     ]
    }
   ],
   "source": [
    "%matplotlib inline\n",
    "\n",
    "import numpy as np\n",
    "import time\n",
    "import matplotlib.pyplot as plt\n",
    "#import scipy.io\n",
    "#import skimage.io\n",
    "\n",
    "import keras\n",
    "from keras.datasets import mnist\n",
    "from keras.datasets import fashion_mnist\n",
    "from keras.layers import Activation\n",
    "from keras.models import Sequential\n",
    "from keras.layers import Dense, Conv2D, MaxPooling2D, Dropout, Flatten\n",
    "from keras.optimizers import SGD, Adam\n",
    "from keras.layers import BatchNormalization\n",
    "from keras.regularizers import Regularizer\n",
    "from keras import regularizers\n",
    "from keras import backend as K"
   ]
  },
  {
   "cell_type": "markdown",
   "metadata": {},
   "source": [
    "### Plotting"
   ]
  },
  {
   "cell_type": "code",
   "execution_count": 5,
   "metadata": {
    "ExecuteTime": {
     "end_time": "2018-02-23T15:11:52.252208Z",
     "start_time": "2018-02-23T15:11:52.121360Z"
    }
   },
   "outputs": [],
   "source": [
    "def plot_some_samples(x, y = [], yhat = [], select_from = [], \n",
    "                      ncols = 6, nrows = 4, xdim = 28, ydim = 28,\n",
    "                      label_mapping = range(10)):\n",
    "    \"\"\"plot some input vectors as grayscale images (optionally together with their assigned or predicted labels).\n",
    "    \n",
    "    x is an NxD - dimensional array, where D is the length of an input vector and N is the number of samples.\n",
    "    Out of the N samples, ncols x nrows indices are randomly selected from the list select_from (if it is empty, select_from becomes range(N)).\n",
    "    \n",
    "    Keyword arguments:\n",
    "    y             -- corresponding labels to plot in green below each image.\n",
    "    yhat          -- corresponding predicted labels to plot in red below each image.\n",
    "    select_from   -- list of indices from which to select the images.\n",
    "    ncols, nrows  -- number of columns and rows to plot.\n",
    "    xdim, ydim    -- number of pixels of the images in x- and y-direction.\n",
    "    label_mapping -- map labels to digits.\n",
    "    \"\"\"\n",
    "    fig, ax = plt.subplots(nrows, ncols)\n",
    "    if len(select_from) == 0:\n",
    "        select_from = range(x.shape[0])\n",
    "    indices = np.random.choice(select_from, size = min(ncols * nrows, len(select_from)), replace = False)\n",
    "    for i, ind in enumerate(indices):\n",
    "        thisax = ax[i//ncols,i%ncols]\n",
    "        thisax.matshow(x[ind].reshape(xdim, ydim), cmap='gray')\n",
    "        thisax.set_axis_off()\n",
    "        if len(y) != 0:\n",
    "            j = y[ind] if type(y[ind]) != np.ndarray else y[ind].argmax()\n",
    "            #j = 'hello' if type(y[ind]) != np.ndarray else y[ind].argmax()\n",
    "            thisax.text(0, 0, (label_mapping[j]+1)%10, color='green', \n",
    "                                                       verticalalignment='top',\n",
    "                                                       transform=thisax.transAxes)\n",
    "        if len(yhat) != 0:\n",
    "            k = yhat[ind] if type(yhat[ind]) != np.ndarray else yhat[ind].argmax()\n",
    "            thisax.text(1, 0, (label_mapping[k]+1)%10, color='red',\n",
    "                                             verticalalignment='top',\n",
    "                                             horizontalalignment='right',\n",
    "                                             transform=thisax.transAxes)\n",
    "    return fig\n",
    "\n",
    "def my_plot_some_samples(x, y = [], yhat = [], select_from = [], \n",
    "                      ncols = 6, nrows = 4, xdim = 28, ydim = 28,\n",
    "                      label_mapping = range(10)):\n",
    "    fig, ax = plt.subplots(nrows, ncols)\n",
    "    if len(select_from) == 0:\n",
    "        select_from = range(x.shape[0])\n",
    "    indices = np.random.choice(select_from, size = min(ncols * nrows, len(select_from)), replace = False)\n",
    "    for i, ind in enumerate(indices):\n",
    "        thisax = ax[i//ncols,i%ncols]\n",
    "        thisax.matshow(x[ind].reshape(xdim, ydim), cmap='gray')\n",
    "        thisax.set_axis_off()\n",
    "        if len(y) != 0:\n",
    "            j = y[ind] if type(y[ind]) != np.ndarray else y[ind].argmax()\n",
    "            #j = 'hello' if type(y[ind]) != np.ndarray else y[ind].argmax()\n",
    "            thisax.text(0, 0, (label_mapping[j])%10, color='green', \n",
    "                                                       verticalalignment='top',\n",
    "                                                       transform=thisax.transAxes)\n",
    "        if len(yhat) != 0:\n",
    "            k = yhat[ind] if type(yhat[ind]) != np.ndarray else yhat[ind].argmax()\n",
    "            thisax.text(1, 0, (label_mapping[k])%10, color='red',\n",
    "                                             verticalalignment='top',\n",
    "                                             horizontalalignment='right',\n",
    "                                             transform=thisax.transAxes)\n",
    "    return fig\n",
    "\n",
    "def prepare_standardplot(title, xlabel):\n",
    "    fig, (ax1, ax2) = plt.subplots(1, 2)\n",
    "    fig.suptitle(title)\n",
    "    ax1.set_ylabel('categorical cross entropy')\n",
    "    ax1.set_xlabel(xlabel)\n",
    "    ax1.set_yscale('log')\n",
    "    ax2.set_ylabel('accuracy [% correct]')\n",
    "    ax2.set_xlabel(xlabel)\n",
    "    return fig, ax1, ax2\n",
    "\n",
    "def finalize_standardplot(fig, ax1, ax2):\n",
    "    ax1handles, ax1labels = ax1.get_legend_handles_labels()\n",
    "    if len(ax1labels) > 0:\n",
    "        ax1.legend(ax1handles, ax1labels)\n",
    "    ax2handles, ax2labels = ax2.get_legend_handles_labels()\n",
    "    if len(ax2labels) > 0:\n",
    "        ax2.legend(ax2handles, ax2labels)\n",
    "    fig.tight_layout()\n",
    "    plt.subplots_adjust(top=0.9)\n",
    "\n",
    "def plot_history(history, title):\n",
    "    fig, ax1, ax2 = prepare_standardplot(title, 'epoch')\n",
    "    fig.set_figheight(5)\n",
    "    fig.set_figwidth(10)\n",
    "    fig.suptitle(title)\n",
    "    ax1.plot(history.history['loss'], label = \"training\")\n",
    "    ax1.plot(history.history['val_loss'], label = \"validation\")\n",
    "    \n",
    "    ax2.plot(history.history['acc'], label = \"training\")\n",
    "    ax2.plot(history.history['val_acc'], label = \"validation\")\n",
    "    finalize_standardplot(fig, ax1, ax2)\n",
    "    return fig"
   ]
  },
  {
   "cell_type": "markdown",
   "metadata": {},
   "source": [
    "## Exercise 1: Data import and visualization (4 points)\n",
    "\n",
    "### Description\n",
    "\n",
    "### Loading the data\n",
    "\n",
    "The datasets we use in this project (MNIST, Fashion-MNIST) consists of grayscale images with 28x28 pixels. Keras comes with a convenient in-built [data importer](https://keras.io/datasets/) for common datasets.\n",
    "\n",
    "1. As a warm-up exercise, use this importer to (down-)load the MNIST and Fashion-MNIST dataset. Assign useful variables to test & train images and labels for both datasets respectively. (2 pts)\n",
    "2. Use the corresponding plotting function defined above to plot some samples of the two datasets. What do the green digits at the bottom left of each image indicate? (1 sentence max.) (2 pts)\n",
    "\n",
    "The low resolution (and grayscale) of the images certainly misses some information that could be helpful for classifying the images. However, since the data has lower dimensionality due to the low resolution, the fitting procedures converge faster. This is an advantage in situations like here (or generally when prototyping), were we want to try many different things without having to wait too long for computations to finish.\n",
    "\n"
   ]
  },
  {
   "cell_type": "markdown",
   "metadata": {},
   "source": [
    "### Solution"
   ]
  },
  {
   "cell_type": "code",
   "execution_count": null,
   "metadata": {
    "ExecuteTime": {
     "end_time": "2018-02-23T14:27:44.442862Z",
     "start_time": "2018-02-23T14:27:09.505547Z"
    }
   },
   "outputs": [],
   "source": [
    "(x_train, y_train), (x_test, y_test) = mnist.load_data()\n",
    "(x_fashion_train, y_fashion_train), (x_fashion_test, y_fashion_test) = fashion_mnist.load_data()\n",
    "print(\"the dimension of x_train is : \",x_train.shape)\n",
    "print(\"the dimension of x_test is :\",x_test.shape)\n",
    "print(\"the dimension of y_train is : \",y_train.shape)\n",
    "print(\"the dimension of y_test is : \",y_test.shape)\n",
    "print(\"the lenght of vector is 28x28 =\",x_test.shape[1]*x_test.shape[2])\n",
    "print(\"fashion is of the same case\")"
   ]
  },
  {
   "cell_type": "markdown",
   "metadata": {},
   "source": [
    "Answer to question 2:\n",
    "The green digits at the bottom left of each image indicate the correct label of the image plus one(e.g., when the label is 9, the green digits is zero)"
   ]
  },
  {
   "cell_type": "code",
   "execution_count": null,
   "metadata": {
    "scrolled": true
   },
   "outputs": [],
   "source": [
    "my_plot_some_samples(x_train, y_train)"
   ]
  },
  {
   "cell_type": "code",
   "execution_count": null,
   "metadata": {},
   "outputs": [],
   "source": [
    "my_plot_some_samples(x_fashion_train, y_fashion_train)"
   ]
  },
  {
   "cell_type": "markdown",
   "metadata": {},
   "source": []
  },
  {
   "cell_type": "markdown",
   "metadata": {},
   "source": [
    "**Data pre-processing**: To prepare for fitting we transform the labels to one hot coding, i.e. for 5 classes, label 2 becomes the vector [0, 0, 1, 0, 0] (python uses 0-indexing). Furthermore we reshape (flatten) the input images to input vectors and rescale the data into the range [0,1]."
   ]
  },
  {
   "cell_type": "code",
   "execution_count": 9,
   "metadata": {},
   "outputs": [
    {
     "name": "stdout",
     "output_type": "stream",
     "text": [
      "('After the pre-processing, the demension of x_train is ', (60000, 784))\n",
      "('After the pre-processing, the demension of y_train is ', (60000, 10))\n"
     ]
    }
   ],
   "source": [
    "ty_train = keras.utils.to_categorical(y_train)\n",
    "ty_test = keras.utils.to_categorical(y_test)\n",
    "ty_fashion_train = keras.utils.to_categorical(y_fashion_train)\n",
    "ty_fashion_test = keras.utils.to_categorical(y_fashion_test)\n",
    "\n",
    "tx_train = (x_train.reshape(x_train.shape[0], x_train.shape[1]*x_train.shape[2])/np.max(x_train)).astype('float32')\n",
    "tx_test = (x_test.reshape(x_test.shape[0], x_test.shape[1]*x_test.shape[2])/np.max(x_test)).astype('float32')\n",
    "tx_fashion_train = (x_fashion_train.reshape(x_fashion_train.shape[0], \n",
    "                                           x_fashion_train.shape[1]*x_fashion_train.shape[2])/ np.max(x_fashion_train)).astype('float32')\n",
    "tx_fashion_test = (x_fashion_test.reshape(x_fashion_test.shape[0], \n",
    "                                           x_fashion_test.shape[1]*x_fashion_test.shape[2]) / np.max(x_fashion_test)).astype('float32')\n",
    "print(\"After the pre-processing, the demension of x_train is \", tx_train.shape)\n",
    "print(\"After the pre-processing, the demension of y_train is \", ty_train.shape)"
   ]
  },
  {
   "cell_type": "markdown",
   "metadata": {},
   "source": [
    "## Exercise 2: No hidden layer (10 points)\n",
    "\n",
    "### Description\n",
    "\n",
    "Define and fit a model without a hidden layer (since we will use multi-layer models later in this project, you can define a general constructor function for models with an arbitrary number of hidden layers already at this point). (1 pt for each step)\n",
    "\n",
    "1. Use the softmax activation for the output layer.\n",
    "2. Use the categorical_crossentropy loss.\n",
    "3. Add the accuracy metric to the metrics.\n",
    "4. Choose stochastic gradient descent for the optimizer.\n",
    "5. Choose a minibatch size of 128.\n",
    "6. Fit for as many epochs as needed to see no further decrease in the validation loss.\n",
    "7. Plot the output of the fitting procedure (a history object) using the function plot_history defined above.\n",
    "8. Determine the indices of all test images that are misclassified by the fitted model and plot some of them using the function \n",
    "   `plot_some_samples(x_test, y_test, yhat_test, error_indices)`. Explain the green and red digits at the bottom of each image.\n",
    "9. Repeat the above steps for fitting the network to the Fashion-MNIST dataset.\n",
    "\n",
    "\n",
    "Hints:\n",
    "* Read the keras docs, in particular [Getting started with the Keras Sequential model](https://keras.io/getting-started/sequential-model-guide/).\n",
    "* Have a look at the keras [examples](https://github.com/keras-team/keras/tree/master/examples), e.g. [mnist_mlp](https://github.com/keras-team/keras/blob/master/examples/mnist_mlp.py)."
   ]
  },
  {
   "cell_type": "markdown",
   "metadata": {},
   "source": [
    "### Solution"
   ]
  },
  {
   "cell_type": "code",
   "execution_count": 36,
   "metadata": {},
   "outputs": [],
   "source": [
    "class DataSet:\n",
    "    def __init__(self, x, y, x_val, y_val):\n",
    "        self.x = x\n",
    "        self.y = y\n",
    "        self.x_val = x_val\n",
    "        self.y_val = y_val\n",
    "\n",
    "class NeuroNetSolver:\n",
    "    def learning(self,data):\n",
    "        self.history = self.model.fit(data.x, data.y, \n",
    "                   batch_size = 128,\n",
    "                   epochs = 50,\n",
    "                   verbose = 0,\n",
    "                   validation_data = (data.x_val, data.y_val))\n",
    "        return self.history\n",
    "    def display(self, title):\n",
    "        best_epoch = np.argmin(self.history.history['val_loss'])\n",
    "        best_loss = self.history.history['val_loss'][best_epoch]\n",
    "        best_accr = self.history.history['val_acc'][best_epoch]\n",
    "        print('when the epoch = %d'%(best_epoch+1))\n",
    "        print('best_loss_test = %.4f'%best_loss)\n",
    "        print('best_accr_test = %.4f'%best_accr)\n",
    "        fig = plot_history(self.history, title)\n",
    "        return best_loss, best_accr\n",
    "        \n",
    "mnist_data = DataSet(tx_train, ty_train, tx_test, ty_test)\n",
    "fashion_data = DataSet(tx_fashion_train,ty_fashion_train,tx_fashion_test,ty_fashion_test)"
   ]
  },
  {
   "cell_type": "code",
   "execution_count": 11,
   "metadata": {},
   "outputs": [],
   "source": [
    "class NoHidden(NeuroNetSolver):\n",
    "    def __init__(self):\n",
    "        self.model = Sequential([Dense(10,input_dim=784),\n",
    "                    Activation('softmax')])\n",
    "        self.model.summary()\n",
    "        self.model.compile(loss = 'categorical_crossentropy',  \n",
    "               optimizer = SGD(lr=0.01, decay=1e-6, momentum=0.9, nesterov=True),\n",
    "               metrics = ['accuracy'])\n",
    "    def plot_misclass(self,tx_test,x_test,y_test):\n",
    "        y_est = self.model.predict_classes(tx_test)\n",
    "        error_indices = np.where( y_est != y_test )[0]\n",
    "        fig = my_plot_some_samples(x_test, y_test, y_est, error_indices)\n",
    "        print('The dimension of y_est is ',y_est.shape)\n",
    "        print('The number of error sample is %d out of %d'%(error_indices.shape[0],y_est.shape[0]))"
   ]
  },
  {
   "cell_type": "code",
   "execution_count": null,
   "metadata": {},
   "outputs": [],
   "source": [
    "'''******************for the MNIST dataset*****************************'''\n",
    "ex2_first = NoHidden()\n",
    "\n",
    "ex2_first.learning(mnist_data)\n",
    "title = 'no hidden layer on MNIST'\n",
    "ex2_first.display(title)\n",
    "ex2_first.plot_misclass(tx_test,x_test,y_test)"
   ]
  },
  {
   "cell_type": "code",
   "execution_count": null,
   "metadata": {},
   "outputs": [],
   "source": [
    "'''******************for the Fashion-MNIST dataset*****************************'''\n",
    "ex2_second = NoHidden()\n",
    "\n",
    "ex2_second.learning(fashion_data)"
   ]
  },
  {
   "cell_type": "code",
   "execution_count": null,
   "metadata": {},
   "outputs": [],
   "source": [
    "title = 'no hidden layer on Fashion-MNIST'\n",
    "ex2_second.display(title)"
   ]
  },
  {
   "cell_type": "code",
   "execution_count": 65,
   "metadata": {},
   "outputs": [
    {
     "name": "stdout",
     "output_type": "stream",
     "text": [
      "The meaning of label is :\n",
      "0 means T-shirt/top \n",
      "1 means Trouser \n",
      "2 means Pullover \n",
      "3 means Dress \n",
      "4 means Coat \n",
      "5 means Sandal \n",
      "6 means Shirt \n",
      "7 means Sneaker \n",
      "8 means Bag \n",
      "9 means Ankel boot \n",
      "The dimension of y_est is  (10000,)\n",
      "The number of error sample is 1563 out of 10000\n"
     ]
    },
    {
     "data": {
      "image/png": "[encoded data removed]",
      "text/plain": [
       "<Figure size 432x288 with 24 Axes>"
      ]
     },
     "metadata": {
      "needs_background": "light"
     },
     "output_type": "display_data"
    }
   ],
   "source": [
    "fashion_name = ['T-shirt/top', 'Trouser', 'Pullover', 'Dress', 'Coat', 'Sandal', 'Shirt',\n",
    "                'Sneaker', 'Bag', 'Ankel boot']\n",
    "print('The meaning of label is :')\n",
    "for i in range(10):\n",
    "    print('%d means %s '%(i, fashion_name[i]))\n",
    "ex2_second.plot_misclass(tx_fashion_test,x_fashion_test,y_fashion_test)"
   ]
  },
  {
   "cell_type": "markdown",
   "metadata": {},
   "source": [
    "Answer to question 10: The green digits at the left bottom of each image indicate the correct label number and red digits at the right bottom of each image indicate the predicted label of network towards this image."
   ]
  },
  {
   "cell_type": "markdown",
   "metadata": {},
   "source": [
    "## Exercise 3: One hidden layer, different optizimizers & overfitting (10 points)\n",
    "\n",
    "### Description\n",
    "\n",
    "Train a network with one hidden layer and compare different optimizers.\n",
    "\n",
    "1. Use one hidden layer with 128 units and the 'relu' activation. Use the [summary method](https://keras.io/models/about-keras-models/) to display your model in a compact way. (1 pt)\n",
    "2. Fit the model for 50 epochs with different learning rates of stochastic gradient descent (SGD). (1pt)\n",
    "3. Replace the stochastic gradient descent optimizer with the [Adam optimizer](https://keras.io/optimizers/#adam). (1pt)\n",
    "4. Plot the learning curves of SGD with a reasonable learning rate (i.e. in the range [0.01,0.1]) together with the learning curves of Adam in the same figure. Take care of a reasonable labeling of the curves in the plot. (2pts)\n",
    "5. Answer the questions below. (4pts)\n",
    "6. Run the network (using the Adam optimizer) on the Fashion-MNIST dataset and plot the learning curves using the plot_history function defined above. (1pt)"
   ]
  },
  {
   "cell_type": "markdown",
   "metadata": {},
   "source": [
    "### Solution"
   ]
  },
  {
   "cell_type": "code",
   "execution_count": 22,
   "metadata": {},
   "outputs": [],
   "source": [
    "class OneHidden(NeuroNetSolver):\n",
    "    def __init__(self,opt):\n",
    "        self.model = Sequential([Dense(128,input_dim=784),\n",
    "                    Activation('relu'),\n",
    "                      Dropout(0.2),\n",
    "                     Dense(10),\n",
    "                    Activation('softmax')])\n",
    "        self.model.summary()\n",
    "        self.model.compile(loss = 'categorical_crossentropy',  \n",
    "               optimizer = opt,\n",
    "               metrics = ['accuracy'])\n",
    "    def get_history(self):\n",
    "        return self.history\n",
    "\n",
    "# This plotting routine might help you ...\n",
    "def comparison_plot(history_sgd, history_adam, label1, label2, title):\n",
    "    fig, ax1, ax2 = prepare_standardplot(title, \"epochs\")\n",
    "    fig.set_figheight(5)\n",
    "    fig.set_figwidth(10)\n",
    "    ax1.plot(history_sgd.history['loss'], label=label1 + ' training')\n",
    "    ax1.plot(history_sgd.history['val_loss'], label=label1 + ' validation')\n",
    "    ax1.plot(history_adam.history['loss'], label=label2 + ' training')\n",
    "    ax1.plot(history_adam.history['val_loss'], label=label2 + ' validation')\n",
    "    \n",
    "    ax2.plot(history_sgd.history['acc'], label=label1 + ' training')\n",
    "    ax2.plot(history_sgd.history['val_acc'], label=label1 + ' validation')\n",
    "    ax2.plot(history_adam.history['acc'], label=label2 + ' training')\n",
    "    ax2.plot(history_adam.history['val_acc'], label=label2 + ' validation')\n",
    "    \n",
    "    finalize_standardplot(fig, ax1, ax2)\n",
    "    return fig"
   ]
  },
  {
   "cell_type": "code",
   "execution_count": null,
   "metadata": {},
   "outputs": [],
   "source": [
    "'''******************for the MNIST dataset*****************************'''\n",
    "\n",
    "opt = SGD(lr=0.01, decay=1e-6, momentum=0.9, nesterov=True)\n",
    "ex3_sgd = OneHidden(opt)\n",
    "\n",
    "history_sgd = ex3_sgd.learning(mnist_data)\n",
    "title = 'One hidden layer on MNIST'\n",
    "ex3_sgd.display(title)\n",
    "history_sgd = ex3_sgd.get_history()"
   ]
  },
  {
   "cell_type": "code",
   "execution_count": null,
   "metadata": {},
   "outputs": [],
   "source": [
    "'''******************compare SGD and Adam optimizer*****************************'''\n",
    "\n",
    "opt = Adam(lr=0.001, beta_1=0.9, beta_2=0.999, epsilon=None, decay=0.0, amsgrad=False)\n",
    "ex3_adam = OneHidden(opt)\n",
    "title = 'One hidden layer on MNIST'\n",
    "\n",
    "history_adam = ex3_adam.learning(mnist_data)\n",
    "ex3_adam.display(title)"
   ]
  },
  {
   "cell_type": "code",
   "execution_count": null,
   "metadata": {
    "ExecuteTime": {
     "end_time": "2018-02-23T15:42:45.497806Z",
     "start_time": "2018-02-23T15:42:44.961166Z"
    }
   },
   "outputs": [],
   "source": [
    "label1 = 'SGD_opt'\n",
    "label2 = 'Adam_opt'\n",
    "title = 'The difference between SGD and Adam optimizer in MNIST dataset'\n",
    "fig = comparison_plot(history_sgd, history_adam, label1, label2, title)"
   ]
  },
  {
   "cell_type": "code",
   "execution_count": null,
   "metadata": {},
   "outputs": [],
   "source": [
    "'''******************compare small and large learning rate with SGD *****************************'''\n",
    "\n",
    "opt = SGD(lr=0.1, decay=1e-6, momentum=0.9, nesterov=True)\n",
    "ex3_sgd_large = OneHidden(opt)\n",
    "title = 'large learning rate on mnist'\n",
    "\n",
    "ex3_sgd_large.learning(mnist_data)\n",
    "ex3_sgd_large.display(title)\n",
    "history_sgd_large = ex3_sgd_large.get_history()"
   ]
  },
  {
   "cell_type": "code",
   "execution_count": null,
   "metadata": {},
   "outputs": [],
   "source": [
    "title = 'The difference between SGD with different learning rate optimizer in MNIST dataset'\n",
    "label1 = 'SGD_small,lr=0.01'\n",
    "label2 = 'SGD_large,lr=0.1'\n",
    "fig = comparison_plot(history_sgd, history_sgd_large, label1, label2, title)"
   ]
  },
  {
   "cell_type": "code",
   "execution_count": null,
   "metadata": {},
   "outputs": [],
   "source": [
    "'''******************for the Fashion-MNIST dataset*****************************'''\n",
    "opt = SGD(lr=0.01, decay=1e-6, momentum=0.9, nesterov=True)\n",
    "title = 'sgd on fashion mnist '\n",
    "ex3_sgd_f = OneHidden(opt)\n",
    "\n",
    "ex3_sgd_f.learning(fashion_data)\n",
    "history_sgd_f = ex3_sgd_f.get_history()"
   ]
  },
  {
   "cell_type": "code",
   "execution_count": null,
   "metadata": {},
   "outputs": [],
   "source": [
    "ex3_sgd_f.display(title)"
   ]
  },
  {
   "cell_type": "code",
   "execution_count": null,
   "metadata": {},
   "outputs": [],
   "source": [
    "opt = SGD(lr=0.1, decay=1e-6, momentum=0.9, nesterov=True)\n",
    "ex3_sgd_f_large = OneHidden(opt)\n",
    "\n",
    "ex3_sgd_f_large.learning(fashion_data)\n",
    "\n",
    "history_sgd_f_large = ex3_sgd_f_large.get_history()\n",
    "title = 'sgd with big learning rate on fashion mnist'\n",
    "ex3_sgd_f_large.display(title)"
   ]
  },
  {
   "cell_type": "code",
   "execution_count": 32,
   "metadata": {},
   "outputs": [
    {
     "data": {
      "image/png": "[encoded data removed]",
      "text/plain": [
       "<Figure size 720x360 with 2 Axes>"
      ]
     },
     "metadata": {
      "needs_background": "light"
     },
     "output_type": "display_data"
    }
   ],
   "source": [
    "title = 'The difference between SGD with different learning rate optimizer in Fashion-MNIST dataset'\n",
    "label1 = 'SGD_small,lr=0.01'\n",
    "label2 = 'SGD_large,lr=0.1'\n",
    "fig = comparison_plot(history_sgd_f, history_sgd_f_large, label1, label2, title)"
   ]
  },
  {
   "cell_type": "code",
   "execution_count": null,
   "metadata": {},
   "outputs": [],
   "source": [
    "opt = Adam(lr=0.001, beta_1=0.9, beta_2=0.999, epsilon=None, decay=0.0, amsgrad=False)\n",
    "ex3_adam_f = OneHidden(opt)\n",
    "\n",
    "ex3_adam_f.learning(fashion_data)\n",
    "\n",
    "history_adam_f = ex3_adam_f.get_history()\n",
    "title = 'with adam on fashion mnist'\n",
    "ex3_adam_f.display(title)"
   ]
  },
  {
   "cell_type": "code",
   "execution_count": null,
   "metadata": {},
   "outputs": [],
   "source": [
    "label1 = 'SGD_opt'\n",
    "label2 = 'Adam_opt'\n",
    "title = 'The difference between SGD and Adam optimizer in fashion MNIST dataset'\n",
    "fig = comparison_plot(history_sgd, history_adam, label1, label2, title)"
   ]
  },
  {
   "cell_type": "markdown",
   "metadata": {},
   "source": [
    "**Question**: What happens if the learning rate of SGD is A) very large B) very small? Please answer A) and B) with one full sentence each (double click this markdown cell to edit).\n",
    "\n",
    "**Answer**:\n",
    "On the dataset of MNIST,\n",
    "A) the categorical cross entropy is larger and more unstable but the accuracy is almost same as smaller learning rate\n",
    "\n",
    "B) the categorical cross entropy is smaller and changes more smoothly with respect to epoches, but the accuracy is almost same as large learning rate\n",
    "\n",
    "**Question**: At which epoch (approximately) does the Adam optimizer start to overfit (on MNIST)? Please answer with one full sentence.\n",
    "\n",
    "**Answer**: On the dataset of MNIST, Adam optimizer start to overfit at 21th epoch because from that point overal trend of categorical cross entropy started to rise.\n",
    "\n",
    "**Question**: Explain the qualitative difference between the loss curves and the accuracy curves with respect to signs of overfitting. Please answer with at most 3 full sentences.\n",
    "\n",
    "**Answer**: The overfitting will happen when the overall trend of loss curve based on the validation dataset goes up and overall trend of accuracy curve based on the validation dataset goes down. However, the accuracy curve going down is not as obvious as loss curve going up. "
   ]
  },
  {
   "cell_type": "markdown",
   "metadata": {},
   "source": [
    "## Exercise 4: Model performance as a function of number of hidden neurons (8 points)\n",
    "\n",
    "### Description\n",
    "\n",
    "Investigate how the best validation loss and accuracy depends on the number of hidden neurons in a single layer.\n",
    "\n",
    "1. Fit a reasonable number of models (e.g. 5) with different hidden layer sizes (between 10 and 1000 hidden neurons) to the MNIST dataset. You may use the Adam optimizer and a meaningful number of epochs (overfitting!). (3 pts)\n",
    "2. Plot the best validation loss and accuracy versus the number of hidden neurons. Is the observed trend in accordance with the [general approximation theorem](https://en.wikipedia.org/wiki/Universal_approximation_theorem)? If not, what might be practical reasons for the deviation? (2 sentences max.) (3 pts)\n",
    "3. Repeat steps 1. & 2. for the Fashion-MNIST dataset. (2 pts)\n",
    "\n",
    "In this exercise we fit each model only for one initialization and random seed. In practice one would collect some statistics (e.g. 25-, 50-, 75-percentiles) for each layer size by fitting each model several times with different initializations and the random seeds. You may also want to do this here. It is a good exercise, but not mandatory as it takes quite a bit of computation time.\n",
    "\n",
    "### Solution"
   ]
  },
  {
   "cell_type": "code",
   "execution_count": 37,
   "metadata": {},
   "outputs": [],
   "source": [
    "class NeuronNum(NeuroNetSolver):\n",
    "    def __init__(self,num):\n",
    "        self.model = Sequential([Dense(num,input_dim=784),\n",
    "                    Activation('relu'),\n",
    "                      Dropout(0.2),\n",
    "                     Dense(10),\n",
    "                    Activation('softmax')])\n",
    "        self.model.summary()\n",
    "        self.model.compile(loss = 'categorical_crossentropy',  \n",
    "               optimizer = Adam(lr=0.001, beta_1=0.9, beta_2=0.999, epsilon=None, decay=0.0),\n",
    "               metrics = ['accuracy'])\n",
    "        \n",
    "def myplot(xlabel,title,x,y1,y2):\n",
    "    fig, ax1, ax2 = prepare_standardplot(title, xlabel)\n",
    "    fig.set_figheight(5)\n",
    "    fig.set_figwidth(10)\n",
    "    fig.suptitle(title)\n",
    "    ax1.plot(x, y1, label='testing')\n",
    "    ax2.plot(x, y2, label='testing')\n",
    "    finalize_standardplot(fig, ax1, ax2)"
   ]
  },
  {
   "cell_type": "code",
   "execution_count": null,
   "metadata": {},
   "outputs": [],
   "source": [
    "'''******************for the MNIST dataset*****************************'''\n",
    "num_neuron = [50,100,200,700,1000]\n",
    "scores = np.zeros((len(num_neuron),2))\n",
    "for i,n in enumerate(num_neuron):\n",
    "    ex4 = NeuronNum(n)\n",
    "    ex4.learning(mnist_data)\n",
    "    title = 'Number of neuron in hidden layer is %d' %(n)\n",
    "    scores[i] = ex4.display(title)"
   ]
  },
  {
   "cell_type": "code",
   "execution_count": null,
   "metadata": {},
   "outputs": [],
   "source": [
    "xlabel = 'number of neurons'\n",
    "title = 'effect of number of neurons in one hidden layer on mnist dataset'\n",
    "myplot(xlabel,title,num_neuron,scores[:,0],scores[:,1])\n",
    "print(num_neuron,'\\n',scores)"
   ]
  },
  {
   "cell_type": "code",
   "execution_count": null,
   "metadata": {},
   "outputs": [],
   "source": [
    "'''******************for the Fashion-MNIST dataset*****************************'''\n",
    "num_neuron = [50,100,200,700,1000]\n",
    "\n",
    "scores = np.zeros((len(num_neuron),2))\n",
    "for i,n in enumerate(num_neuron):\n",
    "    ex4 = NeuronNum(n)\n",
    "    ex4.learning(fashion_data)\n",
    "    title = 'Number of neuron in hidden layer is %d' %(n)\n",
    "    scores[i] = ex4.display(title)"
   ]
  },
  {
   "cell_type": "code",
   "execution_count": null,
   "metadata": {},
   "outputs": [],
   "source": [
    "xlabel = 'number of neurons'\n",
    "title = 'effect of number of neurons in one hidden layer on Fashion-MNIST'\n",
    "myplot(xlabel,title,num_neuron,scores[:,0],scores[:,1])\n",
    "print(num_neuron,'\\n',scores)"
   ]
  },
  {
   "cell_type": "markdown",
   "metadata": {},
   "source": [
    "Answer to question 2: The result is in accordance with the theory because with the increse of neurons in hidden layer, the expressive power of network improves and the accuracy increases as well. But there is some upper bounds for performce with respect to numbers of neurons in a single layer because the expressive power of network in a single hidden layer is saturated."
   ]
  },
  {
   "cell_type": "markdown",
   "metadata": {},
   "source": []
  },
  {
   "cell_type": "markdown",
   "metadata": {},
   "source": [
    "## Exercise 5: Going deeper: tricks and regularization (8 points)\n",
    "\n",
    "### Description\n",
    "\n",
    "Adding hidden layers to a deep network does not necessarily lead to a straight-forward improvement of performance. Overfitting can be counteracted with regularization and dropout. Batch normalization is supposed to mainly speed up convergence. Since the MNIST dataset is almost perfectly solved already by a one-hidden-layer network we use the Fashion-MNIST dataset in this exercise.\n",
    "\n",
    "1. Add one or two hidden layers with 50 hidden neurons (each) and train the network for a sufficiently long time (at least 100 epochs). Since deep models are very expressive you will most probably encounter overfitting. Try to improve the best validation scores of the model (even if it is only a minor improvement) by experimenting with batch_normalization layers, dropout layers and l1- and l2-regularization on weights (kernels) and biases. (4 pts)\n",
    "2. After you have found good settings, plot the learning curves for both models, naive (=no tricks/regularization) and tuned (=tricks + regularized), preferably together in a comparison plot. Discuss your results; refer to the model performance with only 1 hidden layer. (2 sentences max.) (2pts)\n",
    "3. Fit your best performing (probably regularized deep) model also to MNIST for having a reference for the next exercise. Plot the resulting learning curves. (2 pts)\n",
    "\n",
    "### Solution"
   ]
  },
  {
   "cell_type": "code",
   "execution_count": 47,
   "metadata": {},
   "outputs": [],
   "source": [
    "class NeuroModel(NeuroNetSolver):\n",
    "    def __init__(self, model):\n",
    "        self.model = model\n",
    "        self.model.summary()\n",
    "        self.model.compile(loss = 'categorical_crossentropy',  \n",
    "               optimizer = Adam(lr=0.001, beta_1=0.9, beta_2=0.999, epsilon=None, decay=0.0),\n",
    "               metrics = ['accuracy'])\n",
    "    def learning(self, data, epoch):\n",
    "        self.history = self.model.fit(data.x, data.y, \n",
    "                   batch_size = 128,\n",
    "                   epochs = epoch,\n",
    "                   verbose = 1,\n",
    "                   validation_data = (data.x_val, data.y_val))\n",
    "        return self.history"
   ]
  },
  {
   "cell_type": "code",
   "execution_count": 121,
   "metadata": {},
   "outputs": [],
   "source": [
    "def perf_vs_regu(models, data):\n",
    "    \n",
    "    scores = np.zeros((len(models),2))\n",
    "    \n",
    "    for i, model in enumerate(models):\n",
    "        ex5 = NeuroModel(model)\n",
    "        ex5.learning(data, 100)\n",
    "        scores[i] = ex5.display('different regularization method No.%d'%(i))\n",
    "        \n",
    "    return scores\n",
    "\n",
    "def myplot(x,y1,y2):\n",
    "    #name = 'scores_fashion_regu.npy'\n",
    "    #np.save(name,scores_fashion)\n",
    "    #scores_fashion = np.load(name)  \n",
    "    xlabel = 'means of regularization'\n",
    "    title = 'effect of regularization in one hidden layer'\n",
    "    fig, ax1, ax2 = prepare_standardplot(title, xlabel)\n",
    "    fig.set_figheight(5)\n",
    "    fig.set_figwidth(10)\n",
    "    fig.suptitle(title)\n",
    "    ax1.plot(x, y1, label='testing')\n",
    "    ax2.plot(x, y2, label='testing')\n",
    "    finalize_standardplot(fig, ax1, ax2)"
   ]
  },
  {
   "cell_type": "code",
   "execution_count": 124,
   "metadata": {
    "ExecuteTime": {
     "end_time": "2018-02-23T16:26:50.480763Z",
     "start_time": "2018-02-23T16:06:32.938435Z"
    },
    "scrolled": true
   },
   "outputs": [],
   "source": [
    "'''******************for the Fashion-MNIST dataset*****************************'''\n",
    "\n",
    "#BatchNormalization(axis=-1, momentum=0.99, epsilon=0.001, center=True, scale=True, beta_initializer='zeros', \n",
    "#                   gamma_initializer='ones', moving_mean_initializer='zeros', moving_variance_initializer='ones',\n",
    "#                   beta_regularizer=None, gamma_regularizer=None, beta_constraint=None, gamma_constraint=None)\n",
    "droprate = 0.1\n",
    "models = [\n",
    "          Sequential([\n",
    "                    Dense(50,input_dim=784),\n",
    "                     Activation('relu'),\n",
    "                    Dense(50),\n",
    "                     Activation('relu'),\n",
    "                    Dense(10),\n",
    "                     Activation('softmax')]),\n",
    "          Sequential([\n",
    "                    Dense(50,input_dim=784),\n",
    "                     Activation('relu'),\n",
    "                      Dropout(droprate), \n",
    "                    Dense(50),\n",
    "                     Activation('relu'),\n",
    "                      Dropout(droprate),\n",
    "                    Dense(10),\n",
    "                     Activation('softmax')]),\n",
    "          Sequential([\n",
    "                    Dense(50,input_dim=784, \n",
    "                            kernel_regularizer = regularizers.l2(0.005),\n",
    "                             bias_regularizer = regularizers.l2(0.005)),\n",
    "                     Activation('relu'),\n",
    "                    Dense(50,kernel_regularizer = regularizers.l2(0.01),\n",
    "                              bias_regularizer = regularizers.l2(0.01)),\n",
    "                     Activation('relu'),\n",
    "                    Dense(10),\n",
    "                     Activation('softmax')]),\n",
    "          Sequential([\n",
    "                    Dense(50,input_dim=784),\n",
    "                     BatchNormalization(),\n",
    "                      Activation('relu'),\n",
    "                    Dense(50),\n",
    "                     BatchNormalization(),\n",
    "                      Activation('relu'),\n",
    "                    Dense(10),\n",
    "                     Activation('softmax')])\n",
    "         ]\n",
    "\n",
    "scores_fashion = np.zeros((len(models),2))\n",
    "scores_fashion = perf_vs_regu(fashion_data, models)"
   ]
  },
  {
   "cell_type": "code",
   "execution_count": null,
   "metadata": {},
   "outputs": [],
   "source": [
    "for i in range(4):\n",
    "    print('case %d: loss_test = %f, accr_test = %f'%(i,scores_fashion[i,0],scores_fashion[i,1]))\n",
    "myplot(np.array([1,2,3,4],dtype=np.uint8), scores_fashion[:,0], scores_fashion[:,1])"
   ]
  },
  {
   "cell_type": "code",
   "execution_count": null,
   "metadata": {},
   "outputs": [],
   "source": [
    "# tuned two hidden layers\n",
    "model_tuned = Sequential()\n",
    "model_tuned.add(Dense(50, input_dim=784,\n",
    "                kernel_regularizer=regularizers.l2(0.0001),\n",
    "                bias_regularizer=regularizers.l2(0.0001)))\n",
    "\n",
    "model_tuned.add(BatchNormalization())\n",
    "model_tuned.add(Activation('relu'))\n",
    "model_tuned.add(Dropout(0.1))\n",
    "\n",
    "model_tuned.add(Dense(50,kernel_regularizer=regularizers.l2(0.0001),bias_regularizer=regularizers.l2(0.0001)))\n",
    "model_tuned.add(BatchNormalization())\n",
    "model_tuned.add(Activation('relu'))\n",
    "model_tuned.add(Dropout(0.1))\n",
    "\n",
    "\n",
    "model_tuned.add(Dense(10,kernel_regularizer=regularizers.l2(0.0001),bias_regularizer=regularizers.l2(0.0001)))\n",
    "model_tuned.add(BatchNormalization())\n",
    "model_tuned.add(Activation('softmax'))\n",
    "\n",
    "ex5 = NeuroModel(model_tuned)\n",
    "history_tuned = ex5.learning(fashion_data, 100)\n"
   ]
  },
  {
   "cell_type": "code",
   "execution_count": null,
   "metadata": {},
   "outputs": [],
   "source": [
    "# naive two  hidden layers\n",
    "model_naive = Sequential()\n",
    "model_naive.add(Dense(50, activation='relu', input_dim=784))\n",
    "model_naive.add(Dense(50, activation='relu'))\n",
    "model_naive.add(Dense(10, activation='softmax'))\n",
    "\n",
    "ex5 = NeuroModel(model_naive)\n",
    "history_naive = ex5.learning(fashion_data, 100)"
   ]
  },
  {
   "cell_type": "code",
   "execution_count": null,
   "metadata": {},
   "outputs": [],
   "source": [
    "ex5 = NeuroModel(model_tuned)\n",
    "history_tuned_mnist = ex5.learning(mnist_data, epoch=100)\n",
    "score = ex5.display('Tuned model on mnist dataset')"
   ]
  },
  {
   "cell_type": "code",
   "execution_count": null,
   "metadata": {},
   "outputs": [],
   "source": [
    "fig = comparison_plot(history_tuned, history_naive, 'Tuned', 'Naive', 'Comparison')"
   ]
  },
  {
   "cell_type": "markdown",
   "metadata": {},
   "source": [
    "Answer to question 2 (comments): The overfitting is alleviated by regularization though combining dropout,batchnormalization,regularizer (naive 87.78% versus tuned 87.89%) and tuned validation curve has more oscillation. However,the one-hidden-layer model(89.11%) performs better than the hidden-hidden-layer model."
   ]
  },
  {
   "cell_type": "markdown",
   "metadata": {},
   "source": []
  },
  {
   "cell_type": "markdown",
   "metadata": {},
   "source": [
    "## Exercise 6: Convolutional neural networks (CNNs) (10 points)\n",
    "\n",
    "### Description\n",
    "\n",
    "Convolutional neural networks have an inductive bias that is well adapted to image classification.\n",
    "\n",
    "1. Design a convolutional neural network, play with different architectures and parameters. Hint: You may get valuable inspiration from the keras [examples](https://github.com/keras-team/keras/tree/master/examples). (4 pts)\n",
    "2. Plot the learning curves of the convolutional neural network for MNIST and Fashion-MNIST. (4 pts)\n",
    "3. How does the CNN performance compare to the so far best performing (deep) neural network model for the two data sets? (2 sentences max.) (2 pts)\n",
    "\n",
    "### Solution"
   ]
  },
  {
   "cell_type": "code",
   "execution_count": 44,
   "metadata": {},
   "outputs": [],
   "source": [
    "class CNN(NeuroModel):\n",
    "    def __init__(self, dropout_rate, image_shape):\n",
    "        self.model = Sequential([\n",
    "                    Conv2D(32, kernel_size=(3,3), activation = 'relu', input_shape = image_shape),\n",
    "                    Conv2D(64,(3,3),activation = 'relu'),\n",
    "                    MaxPooling2D(pool_size = (2,2)),\n",
    "                    Dropout(dropout_rate),  #0.25\n",
    "                    Flatten(),\n",
    "                    Dense(128, activation = 'relu'),\n",
    "                    Dropout(droprate),  #0.5\n",
    "                    Dense(10, activation = 'softmax')])\n",
    "        self.model.summary()\n",
    "        self.model.compile(loss = 'categorical_crossentropy',  \n",
    "               optimizer = Adam(lr=0.001, beta_1=0.9, beta_2=0.999, epsilon=None, decay=0.0),\n",
    "               metrics = ['accuracy'])  # Possible reason lr =0.01\n",
    "    "
   ]
  },
  {
   "cell_type": "code",
   "execution_count": null,
   "metadata": {},
   "outputs": [],
   "source": [
    "'''******************for the MNIST dataset*****************************'''\n",
    "print(K.image_data_format())\n",
    "\n",
    "x = x_train / 255\n",
    "x_val = x_test / 255\n",
    "x = x[:, :, :, np.newaxis].astype('float32')\n",
    "x_val = x_val[:, :, :, np.newaxis].astype('float32')\n",
    "mnist_cnn_data = DataSet(x,ty_train,x_val,ty_test)\n",
    "\n",
    "droprate = 0.2\n",
    "im_shape = (28,28,1)\n",
    "title = 'cnn on mnist dataset after 12 epoches'\n",
    "\n",
    "ex6 = CNN(droprate, im_shape)\n",
    "ex6.learning(mnist_cnn_data, 12)\n",
    "ex6.display(title)"
   ]
  },
  {
   "cell_type": "code",
   "execution_count": null,
   "metadata": {
    "ExecuteTime": {
     "end_time": "2018-02-23T16:05:21.840299Z",
     "start_time": "2018-02-23T15:51:11.993053Z"
    }
   },
   "outputs": [],
   "source": [
    "'''******************for the Fashion-MNIST dataset*****************************'''\n",
    "x = x_fashion_train / 255\n",
    "x_val = x_fashion_test / 255\n",
    "x = x[:, :, :, np.newaxis].astype('float32')\n",
    "x_val = x_val[:, :, :, np.newaxis].astype('float32')\n",
    "fashion_cnn_data = DataSet(x,ty_fashion_train,x_val,ty_fashion_test)\n",
    "\n",
    "droprate = 0.2\n",
    "im_shape = (28,28,1)\n",
    "title = 'cnn on mnist dataset after 12 epoches'\n",
    "\n",
    "ex6 = CNN(droprate, im_shape)\n",
    "ex6.learning(fashion_cnn_data, 12)\n",
    "ex6.display(title)"
   ]
  },
  {
   "cell_type": "markdown",
   "metadata": {},
   "source": [
    "Answer to question 3: The performance of CNN is better than that of one-hidden full-connected layers network, with 99.11% versus 98.1% on MNIST dataset and with 92.5% versus 89.11% on Fashion-MNIST dataset."
   ]
  },
  {
   "cell_type": "markdown",
   "metadata": {},
   "source": []
  },
  {
   "cell_type": "markdown",
   "metadata": {},
   "source": [
    "## Exercise 7: Sigmoidal activation function and batch-normalization (6 points)\n",
    "\n",
    "### Description:\n",
    "\n",
    "In the original publication of batch normalization [Ioffe and Szegedy, 2014](https://arxiv.org/pdf/1502.03167.pdf), the authors mention a particularly beneficial effect of their method on networks with sigmoidal activation functions. This is because such networks usually suffer from saturating activations/vanishing gradients. Here we want to reproduce this behaviour (Chose either MNIST or Fashion-MNIST for this exercise).\n",
    "\n",
    "1. Implement the same convolutional network as in the previous exercise, but using the sigmoid activation function instead of the standard choice ReLU. Train the network for a reasonable amount of time. What do you observe? (1 sentence max.) (3 pts)\n",
    "2. Add batch-normalization layers to all convolutional and fully-connected layers (i.e. before each layer with learnable parameters). How does the performance change? Can the network reach the ReLU-CNN performance of the previous exercise? (1 sentence max.) (3 pts)\n",
    "3. **BONUS (optional, not graded**): Investigate our initial guess that saturating activity/vanishing gradients might be the cause of this behaviour. For that, create histograms of the hidden activitions for different hidden layers for the sigmoid-CNN and the sigmoid-CNN with batch-normalization (counting over both, samples and neurons per layer). You may only chose layers with learnable parameters. What do you observe?\n",
    "Hint: You can use the [keract](https://github.com/philipperemy/keract) package to access neural activation values for all layers of your network model.\n",
    "\n",
    "\n",
    "\n",
    "### Solution:"
   ]
  },
  {
   "cell_type": "code",
   "execution_count": 117,
   "metadata": {},
   "outputs": [],
   "source": [
    "def perf_vs_batch(data, models):\n",
    "    for i, model in enumerate(models):\n",
    "        ex7 = NeuroModel(model)\n",
    "        ex7.learning(data, 5)\n",
    "        ex7.display('with and without batch-normalization cases of cnn using sigmoid')"
   ]
  },
  {
   "cell_type": "code",
   "execution_count": null,
   "metadata": {
    "scrolled": true
   },
   "outputs": [],
   "source": [
    "'''******************for the Fashion-MNIST dataset*****************************'''\n",
    "\n",
    "im_shape = (28,28,1)\n",
    "droprate = 0.2\n",
    "\n",
    "models = [\n",
    "         Sequential([\n",
    "                    Conv2D(32, kernel_size=(3,3), activation = 'sigmoid', input_shape = im_shape),\n",
    "                    Conv2D(64,(3,3),activation = 'sigmoid'),\n",
    "                    MaxPooling2D(pool_size = (2,2)),\n",
    "                    Dropout(droprate),\n",
    "                    Flatten(),\n",
    "                    Dense(128, activation = 'sigmoid'),\n",
    "                    Dropout(droprate),\n",
    "                    Dense(10, activation = 'softmax')]),\n",
    "    \n",
    "          Sequential([\n",
    "                    Conv2D(32, kernel_size=(3,3), activation = 'sigmoid', input_shape = im_shape),\n",
    "                    BatchNormalization(),\n",
    "                    #Dropout(droprate),\n",
    "                    Conv2D(64,(3,3),activation = 'sigmoid'),\n",
    "                    BatchNormalization(),\n",
    "                    MaxPooling2D(pool_size = (2,2)),\n",
    "                    Dropout(droprate),\n",
    "                    Flatten(),\n",
    "                    Dense(128, activation = 'sigmoid'),\n",
    "                    BatchNormalization(),\n",
    "                    Dropout(droprate),\n",
    "                    Dense(10, activation = 'softmax')])\n",
    "         ]\n",
    "\n",
    "perf_vs_batch(fashion_data, models)"
   ]
  },
  {
   "cell_type": "markdown",
   "metadata": {},
   "source": [
    "Answer to question 1:  After enough training time, the performance(val_accr = 86.39%) is significantly worse than that of network with Relu activation function (val_accr = 92.5%)."
   ]
  },
  {
   "cell_type": "markdown",
   "metadata": {},
   "source": []
  },
  {
   "cell_type": "markdown",
   "metadata": {},
   "source": [
    "Answer to question 2: It will improve the performance of network with sigmoid function from 86.39% to 90.96%, but the final result is slightly worse than that with Relu function."
   ]
  },
  {
   "cell_type": "markdown",
   "metadata": {},
   "source": []
  }
 ],
 "metadata": {
  "kernelspec": {
   "display_name": "Python 3",
   "language": "python",
   "name": "python3"
  },
  "language_info": {
   "codemirror_mode": {
    "name": "ipython",
    "version": 3
   },
   "file_extension": ".py",
   "mimetype": "text/x-python",
   "name": "python",
   "nbconvert_exporter": "python",
   "pygments_lexer": "ipython3",
   "version": "3.7.4"
  }
 },
 "nbformat": 4,
 "nbformat_minor": 2
}
